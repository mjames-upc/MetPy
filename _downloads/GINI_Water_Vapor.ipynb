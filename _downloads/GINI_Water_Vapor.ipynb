{
  "nbformat": 4,
  "nbformat_minor": 0,
  "cells": [
    {
      "cell_type": "code",
      "outputs": [],
      "execution_count": null,
      "source": [
        "%matplotlib inline"
      ],
      "metadata": {
        "collapsed": false
      }
    },
    {
      "cell_type": "markdown",
      "source": [
        "\nGINI Water Vapor Imagery\n========================\n\nUse MetPy's support for GINI files to read in a water vapor satellite image and plot the\ndata using CartoPy.\n\n"
      ],
      "metadata": {}
    },
    {
      "cell_type": "code",
      "outputs": [],
      "execution_count": null,
      "source": [
        "import cartopy.crs as ccrs\nimport matplotlib.pyplot as plt\n\nfrom metpy.cbook import get_test_data\nfrom metpy.io import GiniFile\nfrom metpy.plots import ctables"
      ],
      "metadata": {
        "collapsed": false
      }
    },
    {
      "cell_type": "code",
      "outputs": [],
      "execution_count": null,
      "source": [
        "# Open the GINI file from the test data\nf = GiniFile(get_test_data('WEST-CONUS_4km_WV_20151208_2200.gini'))\nprint(f)"
      ],
      "metadata": {
        "collapsed": false
      }
    },
    {
      "cell_type": "code",
      "outputs": [],
      "execution_count": null,
      "source": [
        "# Get a Dataset view of the data (essentially a NetCDF-like interface to the\n# underlying data). Pull out the data, (x, y) coordinates, and the projection\n# information.\nds = f.to_dataset()\nx = ds.variables['x'][:]\ny = ds.variables['y'][:]\ndat = ds.variables['WV']\nproj_var = ds.variables[dat.grid_mapping]\nprint(proj_var)"
      ],
      "metadata": {
        "collapsed": false
      }
    },
    {
      "cell_type": "code",
      "outputs": [],
      "execution_count": null,
      "source": [
        "# Create CartoPy projection information for the file\nglobe = ccrs.Globe(ellipse='sphere', semimajor_axis=proj_var.earth_radius,\n                   semiminor_axis=proj_var.earth_radius)\nproj = ccrs.LambertConformal(central_longitude=proj_var.longitude_of_central_meridian,\n                             central_latitude=proj_var.latitude_of_projection_origin,\n                             standard_parallels=[proj_var.standard_parallel],\n                             globe=globe)"
      ],
      "metadata": {
        "collapsed": false
      }
    },
    {
      "cell_type": "code",
      "outputs": [],
      "execution_count": null,
      "source": [
        "# Plot the image\nfig = plt.figure(figsize=(10, 12))\nax = fig.add_subplot(1, 1, 1, projection=proj)\nwv_norm, wv_cmap = ctables.registry.get_with_steps('WVCIMSS', 0, 1)\nim = ax.imshow(dat[:], cmap=wv_cmap, norm=wv_norm, zorder=0,\n               extent=(x.min(), x.max(), y.min(), y.max()), origin='upper')\nax.coastlines(resolution='50m', zorder=2, color='black')\n\nplt.show()"
      ],
      "metadata": {
        "collapsed": false
      }
    }
  ],
  "metadata": {
    "language_info": {
      "mimetype": "text/x-python",
      "nbconvert_exporter": "python",
      "file_extension": ".py",
      "pygments_lexer": "ipython3",
      "version": "3.5.2",
      "codemirror_mode": {
        "version": 3,
        "name": "ipython"
      },
      "name": "python"
    },
    "kernelspec": {
      "language": "python",
      "display_name": "Python 3",
      "name": "python3"
    }
  }
}