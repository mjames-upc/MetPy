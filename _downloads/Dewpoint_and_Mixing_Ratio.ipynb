{
  "nbformat": 4,
  "nbformat_minor": 0,
  "cells": [
    {
      "cell_type": "code",
      "outputs": [],
      "execution_count": null,
      "source": [
        "%matplotlib inline"
      ],
      "metadata": {
        "collapsed": false
      }
    },
    {
      "cell_type": "markdown",
      "source": [
        "\nDewpoint and Mixing Ratio\n=========================\n\nUse functions from `metpy.calc` as well as pint's unit support to perform calculations.\n\nThe code below converts the mixing ratio value into\na value for vapor pressure assuming both 1000mb and 850mb ambient air\npressure values. It also demonstrates converting the resulting dewpoint\ntemperature to degrees Fahrenheit.\n\n"
      ],
      "metadata": {}
    },
    {
      "cell_type": "code",
      "outputs": [],
      "execution_count": null,
      "source": [
        "import metpy.calc as mcalc\nfrom metpy.units import units"
      ],
      "metadata": {
        "collapsed": false
      }
    },
    {
      "cell_type": "markdown",
      "source": [
        "Create a test value of mixing ratio in grams per kilogram\n\n"
      ],
      "metadata": {}
    },
    {
      "cell_type": "code",
      "outputs": [],
      "execution_count": null,
      "source": [
        "mixing = 10 * units('g/kg')\nprint(mixing)"
      ],
      "metadata": {
        "collapsed": false
      }
    },
    {
      "cell_type": "markdown",
      "source": [
        "Now throw that value with units into the function to calculate\nthe corresponding vapor pressure, given a surface pressure of 1000 mb\n\n"
      ],
      "metadata": {}
    },
    {
      "cell_type": "code",
      "outputs": [],
      "execution_count": null,
      "source": [
        "e = mcalc.vapor_pressure(1000. * units.mbar, mixing)\nprint(e)"
      ],
      "metadata": {
        "collapsed": false
      }
    },
    {
      "cell_type": "markdown",
      "source": [
        "Take the odd units and force them to millibars\n\n"
      ],
      "metadata": {}
    },
    {
      "cell_type": "code",
      "outputs": [],
      "execution_count": null,
      "source": [
        "print(e.to(units.mbar))"
      ],
      "metadata": {
        "collapsed": false
      }
    },
    {
      "cell_type": "markdown",
      "source": [
        "Take the raw vapor pressure and throw into the dewpoint function\n\n"
      ],
      "metadata": {}
    },
    {
      "cell_type": "code",
      "outputs": [],
      "execution_count": null,
      "source": [
        "td = mcalc.dewpoint(e)\nprint(td)"
      ],
      "metadata": {
        "collapsed": false
      }
    },
    {
      "cell_type": "markdown",
      "source": [
        "Which can of course be converted to Fahrenheit\n\n"
      ],
      "metadata": {}
    },
    {
      "cell_type": "code",
      "outputs": [],
      "execution_count": null,
      "source": [
        "print(td.to('degF'))"
      ],
      "metadata": {
        "collapsed": false
      }
    },
    {
      "cell_type": "markdown",
      "source": [
        "Now do the same thing for 850 mb, approximately the pressure of Denver\n\n"
      ],
      "metadata": {}
    },
    {
      "cell_type": "code",
      "outputs": [],
      "execution_count": null,
      "source": [
        "e = mcalc.vapor_pressure(850. * units.mbar, mixing)\nprint(e.to(units.mbar))"
      ],
      "metadata": {
        "collapsed": false
      }
    },
    {
      "cell_type": "markdown",
      "source": [
        "And print the corresponding dewpoint\n\n"
      ],
      "metadata": {}
    },
    {
      "cell_type": "code",
      "outputs": [],
      "execution_count": null,
      "source": [
        "td = mcalc.dewpoint(e)\nprint(td, td.to('degF'))"
      ],
      "metadata": {
        "collapsed": false
      }
    }
  ],
  "metadata": {
    "language_info": {
      "mimetype": "text/x-python",
      "nbconvert_exporter": "python",
      "file_extension": ".py",
      "pygments_lexer": "ipython3",
      "version": "3.5.2",
      "codemirror_mode": {
        "version": 3,
        "name": "ipython"
      },
      "name": "python"
    },
    "kernelspec": {
      "language": "python",
      "display_name": "Python 3",
      "name": "python3"
    }
  }
}