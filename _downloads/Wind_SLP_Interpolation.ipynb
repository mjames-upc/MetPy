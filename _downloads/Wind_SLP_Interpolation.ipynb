{
  "nbformat": 4,
  "nbformat_minor": 0,
  "cells": [
    {
      "cell_type": "code",
      "outputs": [],
      "execution_count": null,
      "source": [
        "%matplotlib inline"
      ],
      "metadata": {
        "collapsed": false
      }
    },
    {
      "cell_type": "markdown",
      "source": [
        "\nWind and Sea Level Pressure Interpolation\n=========================================\n\nInterpolate sea level pressure, as well as wind component data,\nto make a consistent looking analysis, featuring contours of pressure and wind barbs.\n\n"
      ],
      "metadata": {}
    },
    {
      "cell_type": "code",
      "outputs": [],
      "execution_count": null,
      "source": [
        "import cartopy\nimport cartopy.crs as ccrs\nfrom matplotlib.colors import BoundaryNorm\nimport matplotlib.pyplot as plt\nimport numpy as np\n\nfrom metpy.calc import get_wind_components\nfrom metpy.cbook import get_test_data\nfrom metpy.gridding.gridding_functions import interpolate, remove_nan_observations\nfrom metpy.units import units\n\nfrom_proj = ccrs.Geodetic()\nto_proj = ccrs.AlbersEqualArea(central_longitude=-97., central_latitude=38.)\n\n\ndef station_test_data(variable_names, proj_from=None, proj_to=None):\n    f = get_test_data('station_data.txt')\n\n    all_data = np.loadtxt(f, skiprows=1, delimiter=',',\n                          usecols=(1, 2, 3, 4, 5, 6, 7, 17, 18, 19),\n                          dtype=np.dtype([('stid', '3S'), ('lat', 'f'), ('lon', 'f'),\n                                          ('slp', 'f'), ('air_temperature', 'f'),\n                                          ('cloud_fraction', 'f'), ('dewpoint', 'f'),\n                                          ('weather', '16S'),\n                                          ('wind_dir', 'f'), ('wind_speed', 'f')]))\n\n    all_stids = [s.decode('ascii') for s in all_data['stid']]\n    data = np.concatenate([all_data[all_stids.index(site)].reshape(1, ) for site in all_stids])\n\n    value = data[variable_names]\n    lon = data['lon']\n    lat = data['lat']\n\n    if proj_from is not None and proj_to is not None:\n            proj_points = proj_to.transform_points(proj_from, lon, lat)\n            return proj_points[:, 0], proj_points[:, 1], value\n\n    return lon, lat, value"
      ],
      "metadata": {
        "collapsed": false
      }
    },
    {
      "cell_type": "markdown",
      "source": [
        "Get pressure information using the sample station data\n\n"
      ],
      "metadata": {}
    },
    {
      "cell_type": "code",
      "outputs": [],
      "execution_count": null,
      "source": [
        "xp, yp, pres = station_test_data(['slp'], from_proj, to_proj)"
      ],
      "metadata": {
        "collapsed": false
      }
    },
    {
      "cell_type": "markdown",
      "source": [
        "Remove all missing data from pressure\n\n"
      ],
      "metadata": {}
    },
    {
      "cell_type": "code",
      "outputs": [],
      "execution_count": null,
      "source": [
        "pres = np.array([p[0] for p in pres])\n\nxp, yp, pres = remove_nan_observations(xp, yp, pres)"
      ],
      "metadata": {
        "collapsed": false
      }
    },
    {
      "cell_type": "markdown",
      "source": [
        "Interpolate pressure as usual\n\n"
      ],
      "metadata": {}
    },
    {
      "cell_type": "code",
      "outputs": [],
      "execution_count": null,
      "source": [
        "slpgridx, slpgridy, slp = interpolate(xp, yp, pres, interp_type='cressman',\n                                      minimum_neighbors=1, search_radius=400000, hres=100000)"
      ],
      "metadata": {
        "collapsed": false
      }
    },
    {
      "cell_type": "markdown",
      "source": [
        "Get wind information\n\n"
      ],
      "metadata": {}
    },
    {
      "cell_type": "code",
      "outputs": [],
      "execution_count": null,
      "source": [
        "x, y, wind = station_test_data(['wind_speed', 'wind_dir'], from_proj, to_proj)"
      ],
      "metadata": {
        "collapsed": false
      }
    },
    {
      "cell_type": "markdown",
      "source": [
        "Remove bad data from wind information\n\n"
      ],
      "metadata": {}
    },
    {
      "cell_type": "code",
      "outputs": [],
      "execution_count": null,
      "source": [
        "wind_speed = np.array([w[0] for w in wind])\nwind_dir = np.array([w[1] for w in wind])\n\ngood_indices = np.where((~np.isnan(wind_dir)) & (~np.isnan(wind_speed)))\n\nx = x[good_indices]\ny = y[good_indices]\nwind_speed = wind_speed[good_indices]\nwind_dir = wind_dir[good_indices]"
      ],
      "metadata": {
        "collapsed": false
      }
    },
    {
      "cell_type": "markdown",
      "source": [
        "Calculate u and v components of wind and then interpolate both.\n\nBoth will have the same underlying grid so throw away grid returned from v interpolation.\n\n"
      ],
      "metadata": {}
    },
    {
      "cell_type": "code",
      "outputs": [],
      "execution_count": null,
      "source": [
        "u, v = get_wind_components((wind_speed * units('m/s')).to('knots'),\n                           wind_dir * units.degree)\n\nwindgridx, windgridy, uwind = interpolate(x, y, np.array(u), interp_type='cressman',\n                                          search_radius=400000, hres=100000)\n\n_, _, vwind = interpolate(x, y, np.array(v), interp_type='cressman', search_radius=400000,\n                          hres=100000)"
      ],
      "metadata": {
        "collapsed": false
      }
    },
    {
      "cell_type": "markdown",
      "source": [
        "Get temperature information\n\n"
      ],
      "metadata": {}
    },
    {
      "cell_type": "code",
      "outputs": [],
      "execution_count": null,
      "source": [
        "levels = list(range(-20, 20, 1))\ncmap = plt.get_cmap('viridis')\nnorm = BoundaryNorm(levels, ncolors=cmap.N, clip=True)\n\nxt, yt, t = station_test_data('air_temperature', from_proj, to_proj)\nxt, yt, t = remove_nan_observations(xt, yt, t)\n\ntempx, tempy, temp = interpolate(xt, yt, t, interp_type='cressman', minimum_neighbors=3,\n                                 search_radius=400000, hres=35000)\n\ntemp = np.ma.masked_where(np.isnan(temp), temp)"
      ],
      "metadata": {
        "collapsed": false
      }
    },
    {
      "cell_type": "markdown",
      "source": [
        "Set up the map and plot the interpolated grids appropriately.\n\n"
      ],
      "metadata": {}
    },
    {
      "cell_type": "code",
      "outputs": [],
      "execution_count": null,
      "source": [
        "fig = plt.figure(figsize=(20, 10))\nview = fig.add_subplot(1, 1, 1, projection=to_proj)\n\nview.set_extent([-120, -70, 20, 50])\nview.add_feature(cartopy.feature.NaturalEarthFeature(category='cultural',\n                                                     name='admin_1_states_provinces_lakes',\n                                                     scale='50m', facecolor='none'))\nview.add_feature(cartopy.feature.OCEAN)\nview.add_feature(cartopy.feature.COASTLINE)\nview.add_feature(cartopy.feature.BORDERS, linestyle=':')\n\ncs = view.contour(slpgridx, slpgridy, slp, colors='k', levels=list(range(990, 1034, 4)))\nplt.clabel(cs, inline=1, fontsize=12, fmt='%i')\n\nmmb = view.pcolormesh(tempx, tempy, temp, cmap=cmap, norm=norm)\nplt.colorbar(mmb, shrink=.4, pad=0.02, boundaries=levels)\n\nview.barbs(windgridx, windgridy, uwind, vwind, alpha=.4, length=5)\n\nplt.title('Surface Temperature (shaded), SLP, and Wind.')\n\nplt.show()"
      ],
      "metadata": {
        "collapsed": false
      }
    }
  ],
  "metadata": {
    "language_info": {
      "mimetype": "text/x-python",
      "nbconvert_exporter": "python",
      "file_extension": ".py",
      "pygments_lexer": "ipython3",
      "version": "3.5.2",
      "codemirror_mode": {
        "version": 3,
        "name": "ipython"
      },
      "name": "python"
    },
    "kernelspec": {
      "language": "python",
      "display_name": "Python 3",
      "name": "python3"
    }
  }
}